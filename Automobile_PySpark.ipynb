{
  "nbformat": 4,
  "nbformat_minor": 0,
  "metadata": {
    "colab": {
      "provenance": [],
      "authorship_tag": "ABX9TyNYw+iYo9hxaZm/OeRPTYF3",
      "include_colab_link": true
    },
    "kernelspec": {
      "name": "python3",
      "display_name": "Python 3"
    },
    "language_info": {
      "name": "python"
    }
  },
  "cells": [
    {
      "cell_type": "markdown",
      "metadata": {
        "id": "view-in-github",
        "colab_type": "text"
      },
      "source": [
        "<a href=\"https://colab.research.google.com/github/AbisolaOlakanmi/Spark_GoogleColab/blob/main/Automobile_PySpark.ipynb\" target=\"_parent\"><img src=\"https://colab.research.google.com/assets/colab-badge.svg\" alt=\"Open In Colab\"/></a>"
      ]
    },
    {
      "cell_type": "code",
      "source": [
        "#Mount Google Drive\n",
        "from google.colab import drive\n",
        "\n",
        "drive.mount('/content/drive')"
      ],
      "metadata": {
        "colab": {
          "base_uri": "https://localhost:8080/"
        },
        "id": "RWVlB3EbWIFb",
        "outputId": "91b0bd1a-1223-4ebd-c2c4-12f0c876b68e"
      },
      "execution_count": 1,
      "outputs": [
        {
          "output_type": "stream",
          "name": "stdout",
          "text": [
            "Drive already mounted at /content/drive; to attempt to forcibly remount, call drive.mount(\"/content/drive\", force_remount=True).\n"
          ]
        }
      ]
    },
    {
      "cell_type": "code",
      "source": [
        "#Initialization\n",
        "from pyspark.sql import SparkSession\n",
        "\n",
        "spark = SparkSession.builder\\\n",
        ".master(\"local\")\\\n",
        ".appName(\"Colab\")\\\n",
        ".config('spark.ui.port', '4050')\\\n",
        ".getOrCreate()"
      ],
      "metadata": {
        "id": "dV2A1gNZR_Dy"
      },
      "execution_count": 2,
      "outputs": []
    },
    {
      "cell_type": "code",
      "execution_count": 3,
      "metadata": {
        "id": "_M026DD5QVUx",
        "colab": {
          "base_uri": "https://localhost:8080/"
        },
        "outputId": "554f6a6e-8ee0-4d8e-ea4b-0202aa7441ae"
      },
      "outputs": [
        {
          "output_type": "stream",
          "name": "stdout",
          "text": [
            "+---------+-----------------+-----------+---------+----------+------------+-----------+------------+---------------+----------+------+-----+------+-----------+-----------+----------------+-----------+-----------+----+------+-----------------+----------+--------+--------+-----------+-----+\n",
            "|symboling|normalized-losses|       make|fuel-type|aspiration|num-of-doors| body-style|drive-wheels|engine-location|wheel-base|length|width|height|curb-weight|engine-type|num-of-cylinders|engine-size|fuel-system|bore|stroke|compression-ratio|horsepower|peak-rpm|city-mpg|highway-mpg|price|\n",
            "+---------+-----------------+-----------+---------+----------+------------+-----------+------------+---------------+----------+------+-----+------+-----------+-----------+----------------+-----------+-----------+----+------+-----------------+----------+--------+--------+-----------+-----+\n",
            "|        3|             NULL|alfa-romero|      gas|       std|         two|convertible|         rwd|          front|      88.6| 168.8| 64.1|  48.8|       2548|       dohc|            four|        130|       mpfi|3.47|  2.68|              9.0|       111|    5000|      21|         27|13495|\n",
            "|        3|             NULL|alfa-romero|      gas|       std|         two|convertible|         rwd|          front|      88.6| 168.8| 64.1|  48.8|       2548|       dohc|            four|        130|       mpfi|3.47|  2.68|              9.0|       111|    5000|      21|         27|16500|\n",
            "|        1|             NULL|alfa-romero|      gas|       std|         two|  hatchback|         rwd|          front|      94.5| 171.2| 65.5|  52.4|       2823|       ohcv|             six|        152|       mpfi|2.68|  3.47|              9.0|       154|    5000|      19|         26|16500|\n",
            "|        2|              164|       audi|      gas|       std|        four|      sedan|         fwd|          front|      99.8| 176.6| 66.2|  54.3|       2337|        ohc|            four|        109|       mpfi|3.19|   3.4|             10.0|       102|    5500|      24|         30|13950|\n",
            "|        2|              164|       audi|      gas|       std|        four|      sedan|         4wd|          front|      99.4| 176.6| 66.4|  54.3|       2824|        ohc|            five|        136|       mpfi|3.19|   3.4|              8.0|       115|    5500|      18|         22|17450|\n",
            "|        2|             NULL|       audi|      gas|       std|         two|      sedan|         fwd|          front|      99.8| 177.3| 66.3|  53.1|       2507|        ohc|            five|        136|       mpfi|3.19|   3.4|              8.5|       110|    5500|      19|         25|15250|\n",
            "|        1|              158|       audi|      gas|       std|        four|      sedan|         fwd|          front|     105.8| 192.7| 71.4|  55.7|       2844|        ohc|            five|        136|       mpfi|3.19|   3.4|              8.5|       110|    5500|      19|         25|17710|\n",
            "|        1|             NULL|       audi|      gas|       std|        four|      wagon|         fwd|          front|     105.8| 192.7| 71.4|  55.7|       2954|        ohc|            five|        136|       mpfi|3.19|   3.4|              8.5|       110|    5500|      19|         25|18920|\n",
            "|        1|              158|       audi|      gas|     turbo|        four|      sedan|         fwd|          front|     105.8| 192.7| 71.4|  55.9|       3086|        ohc|            five|        131|       mpfi|3.13|   3.4|              8.3|       140|    5500|      17|         20|23875|\n",
            "|        0|             NULL|       audi|      gas|     turbo|         two|  hatchback|         4wd|          front|      99.5| 178.2| 67.9|  52.0|       3053|        ohc|            five|        131|       mpfi|3.13|   3.4|              7.0|       160|    5500|      16|         22| NULL|\n",
            "|        2|              192|        bmw|      gas|       std|         two|      sedan|         rwd|          front|     101.2| 176.8| 64.8|  54.3|       2395|        ohc|            four|        108|       mpfi| 3.5|   2.8|              8.8|       101|    5800|      23|         29|16430|\n",
            "|        0|              192|        bmw|      gas|       std|        four|      sedan|         rwd|          front|     101.2| 176.8| 64.8|  54.3|       2395|        ohc|            four|        108|       mpfi| 3.5|   2.8|              8.8|       101|    5800|      23|         29|16925|\n",
            "|        0|              188|        bmw|      gas|       std|         two|      sedan|         rwd|          front|     101.2| 176.8| 64.8|  54.3|       2710|        ohc|             six|        164|       mpfi|3.31|  3.19|              9.0|       121|    4250|      21|         28|20970|\n",
            "|        0|              188|        bmw|      gas|       std|        four|      sedan|         rwd|          front|     101.2| 176.8| 64.8|  54.3|       2765|        ohc|             six|        164|       mpfi|3.31|  3.19|              9.0|       121|    4250|      21|         28|21105|\n",
            "|        1|             NULL|        bmw|      gas|       std|        four|      sedan|         rwd|          front|     103.5| 189.0| 66.9|  55.7|       3055|        ohc|             six|        164|       mpfi|3.31|  3.19|              9.0|       121|    4250|      20|         25|24565|\n",
            "|        0|             NULL|        bmw|      gas|       std|        four|      sedan|         rwd|          front|     103.5| 189.0| 66.9|  55.7|       3230|        ohc|             six|        209|       mpfi|3.62|  3.39|              8.0|       182|    5400|      16|         22|30760|\n",
            "|        0|             NULL|        bmw|      gas|       std|         two|      sedan|         rwd|          front|     103.5| 193.8| 67.9|  53.7|       3380|        ohc|             six|        209|       mpfi|3.62|  3.39|              8.0|       182|    5400|      16|         22|41315|\n",
            "|        0|             NULL|        bmw|      gas|       std|        four|      sedan|         rwd|          front|     110.0| 197.0| 70.9|  56.3|       3505|        ohc|             six|        209|       mpfi|3.62|  3.39|              8.0|       182|    5400|      15|         20|36880|\n",
            "|        2|              121|  chevrolet|      gas|       std|         two|  hatchback|         fwd|          front|      88.4| 141.1| 60.3|  53.2|       1488|          l|           three|         61|       2bbl|2.91|  3.03|              9.5|        48|    5100|      47|         53| 5151|\n",
            "|        1|               98|  chevrolet|      gas|       std|         two|  hatchback|         fwd|          front|      94.5| 155.9| 63.6|  52.0|       1874|        ohc|            four|         90|       2bbl|3.03|  3.11|              9.6|        70|    5400|      38|         43| 6295|\n",
            "+---------+-----------------+-----------+---------+----------+------------+-----------+------------+---------------+----------+------+-----+------+-----------+-----------+----------------+-----------+-----------+----+------+-----------------+----------+--------+--------+-----------+-----+\n",
            "only showing top 20 rows\n",
            "\n"
          ]
        }
      ],
      "source": [
        "# Read CSV file into a PySpark DataFrame\n",
        "df= spark.read.csv('/content/drive/My Drive/Automobile_data.csv', header=True, inferSchema= True)\n",
        "df.show()"
      ]
    },
    {
      "cell_type": "code",
      "source": [
        "# Get the count of rows in the DataFrame\n",
        "df.count()"
      ],
      "metadata": {
        "colab": {
          "base_uri": "https://localhost:8080/"
        },
        "id": "oe5qWXYuXa7K",
        "outputId": "496c0bcb-6141-4bb4-e66d-a0433a91dfdd"
      },
      "execution_count": 4,
      "outputs": [
        {
          "output_type": "execute_result",
          "data": {
            "text/plain": [
              "205"
            ]
          },
          "metadata": {},
          "execution_count": 4
        }
      ]
    },
    {
      "cell_type": "code",
      "source": [
        "#Print the schema of the DataFrame\n",
        "df.printSchema()"
      ],
      "metadata": {
        "colab": {
          "base_uri": "https://localhost:8080/"
        },
        "id": "vq0P4Re_Xa9y",
        "outputId": "ebdb4add-906f-4330-b463-1e9ae3e03f42"
      },
      "execution_count": 5,
      "outputs": [
        {
          "output_type": "stream",
          "name": "stdout",
          "text": [
            "root\n",
            " |-- symboling: integer (nullable = true)\n",
            " |-- normalized-losses: integer (nullable = true)\n",
            " |-- make: string (nullable = true)\n",
            " |-- fuel-type: string (nullable = true)\n",
            " |-- aspiration: string (nullable = true)\n",
            " |-- num-of-doors: string (nullable = true)\n",
            " |-- body-style: string (nullable = true)\n",
            " |-- drive-wheels: string (nullable = true)\n",
            " |-- engine-location: string (nullable = true)\n",
            " |-- wheel-base: double (nullable = true)\n",
            " |-- length: double (nullable = true)\n",
            " |-- width: double (nullable = true)\n",
            " |-- height: double (nullable = true)\n",
            " |-- curb-weight: integer (nullable = true)\n",
            " |-- engine-type: string (nullable = true)\n",
            " |-- num-of-cylinders: string (nullable = true)\n",
            " |-- engine-size: integer (nullable = true)\n",
            " |-- fuel-system: string (nullable = true)\n",
            " |-- bore: double (nullable = true)\n",
            " |-- stroke: double (nullable = true)\n",
            " |-- compression-ratio: double (nullable = true)\n",
            " |-- horsepower: integer (nullable = true)\n",
            " |-- peak-rpm: integer (nullable = true)\n",
            " |-- city-mpg: integer (nullable = true)\n",
            " |-- highway-mpg: integer (nullable = true)\n",
            " |-- price: integer (nullable = true)\n",
            "\n"
          ]
        }
      ]
    },
    {
      "cell_type": "code",
      "source": [
        "# Remove rows with null values\n",
        "df = df.dropna()\n",
        "\n",
        "# Display result after removing nulls\n",
        "\n",
        "df.show()"
      ],
      "metadata": {
        "colab": {
          "base_uri": "https://localhost:8080/"
        },
        "id": "o9m_ZEUQXbFO",
        "outputId": "c47634b9-1a34-4f0d-eba4-8b440f5cb2f0"
      },
      "execution_count": 6,
      "outputs": [
        {
          "output_type": "stream",
          "name": "stdout",
          "text": [
            "+---------+-----------------+---------+---------+----------+------------+----------+------------+---------------+----------+------+-----+------+-----------+-----------+----------------+-----------+-----------+----+------+-----------------+----------+--------+--------+-----------+-----+\n",
            "|symboling|normalized-losses|     make|fuel-type|aspiration|num-of-doors|body-style|drive-wheels|engine-location|wheel-base|length|width|height|curb-weight|engine-type|num-of-cylinders|engine-size|fuel-system|bore|stroke|compression-ratio|horsepower|peak-rpm|city-mpg|highway-mpg|price|\n",
            "+---------+-----------------+---------+---------+----------+------------+----------+------------+---------------+----------+------+-----+------+-----------+-----------+----------------+-----------+-----------+----+------+-----------------+----------+--------+--------+-----------+-----+\n",
            "|        2|              164|     audi|      gas|       std|        four|     sedan|         fwd|          front|      99.8| 176.6| 66.2|  54.3|       2337|        ohc|            four|        109|       mpfi|3.19|   3.4|             10.0|       102|    5500|      24|         30|13950|\n",
            "|        2|              164|     audi|      gas|       std|        four|     sedan|         4wd|          front|      99.4| 176.6| 66.4|  54.3|       2824|        ohc|            five|        136|       mpfi|3.19|   3.4|              8.0|       115|    5500|      18|         22|17450|\n",
            "|        1|              158|     audi|      gas|       std|        four|     sedan|         fwd|          front|     105.8| 192.7| 71.4|  55.7|       2844|        ohc|            five|        136|       mpfi|3.19|   3.4|              8.5|       110|    5500|      19|         25|17710|\n",
            "|        1|              158|     audi|      gas|     turbo|        four|     sedan|         fwd|          front|     105.8| 192.7| 71.4|  55.9|       3086|        ohc|            five|        131|       mpfi|3.13|   3.4|              8.3|       140|    5500|      17|         20|23875|\n",
            "|        2|              192|      bmw|      gas|       std|         two|     sedan|         rwd|          front|     101.2| 176.8| 64.8|  54.3|       2395|        ohc|            four|        108|       mpfi| 3.5|   2.8|              8.8|       101|    5800|      23|         29|16430|\n",
            "|        0|              192|      bmw|      gas|       std|        four|     sedan|         rwd|          front|     101.2| 176.8| 64.8|  54.3|       2395|        ohc|            four|        108|       mpfi| 3.5|   2.8|              8.8|       101|    5800|      23|         29|16925|\n",
            "|        0|              188|      bmw|      gas|       std|         two|     sedan|         rwd|          front|     101.2| 176.8| 64.8|  54.3|       2710|        ohc|             six|        164|       mpfi|3.31|  3.19|              9.0|       121|    4250|      21|         28|20970|\n",
            "|        0|              188|      bmw|      gas|       std|        four|     sedan|         rwd|          front|     101.2| 176.8| 64.8|  54.3|       2765|        ohc|             six|        164|       mpfi|3.31|  3.19|              9.0|       121|    4250|      21|         28|21105|\n",
            "|        2|              121|chevrolet|      gas|       std|         two| hatchback|         fwd|          front|      88.4| 141.1| 60.3|  53.2|       1488|          l|           three|         61|       2bbl|2.91|  3.03|              9.5|        48|    5100|      47|         53| 5151|\n",
            "|        1|               98|chevrolet|      gas|       std|         two| hatchback|         fwd|          front|      94.5| 155.9| 63.6|  52.0|       1874|        ohc|            four|         90|       2bbl|3.03|  3.11|              9.6|        70|    5400|      38|         43| 6295|\n",
            "|        0|               81|chevrolet|      gas|       std|        four|     sedan|         fwd|          front|      94.5| 158.8| 63.6|  52.0|       1909|        ohc|            four|         90|       2bbl|3.03|  3.11|              9.6|        70|    5400|      38|         43| 6575|\n",
            "|        1|              118|    dodge|      gas|       std|         two| hatchback|         fwd|          front|      93.7| 157.3| 63.8|  50.8|       1876|        ohc|            four|         90|       2bbl|2.97|  3.23|             9.41|        68|    5500|      37|         41| 5572|\n",
            "|        1|              118|    dodge|      gas|       std|         two| hatchback|         fwd|          front|      93.7| 157.3| 63.8|  50.8|       1876|        ohc|            four|         90|       2bbl|2.97|  3.23|              9.4|        68|    5500|      31|         38| 6377|\n",
            "|        1|              118|    dodge|      gas|     turbo|         two| hatchback|         fwd|          front|      93.7| 157.3| 63.8|  50.8|       2128|        ohc|            four|         98|       mpfi|3.03|  3.39|              7.6|       102|    5500|      24|         30| 7957|\n",
            "|        1|              148|    dodge|      gas|       std|        four| hatchback|         fwd|          front|      93.7| 157.3| 63.8|  50.6|       1967|        ohc|            four|         90|       2bbl|2.97|  3.23|              9.4|        68|    5500|      31|         38| 6229|\n",
            "|        1|              148|    dodge|      gas|       std|        four|     sedan|         fwd|          front|      93.7| 157.3| 63.8|  50.6|       1989|        ohc|            four|         90|       2bbl|2.97|  3.23|              9.4|        68|    5500|      31|         38| 6692|\n",
            "|        1|              148|    dodge|      gas|       std|        four|     sedan|         fwd|          front|      93.7| 157.3| 63.8|  50.6|       1989|        ohc|            four|         90|       2bbl|2.97|  3.23|              9.4|        68|    5500|      31|         38| 7609|\n",
            "|       -1|              110|    dodge|      gas|       std|        four|     wagon|         fwd|          front|     103.3| 174.6| 64.6|  59.8|       2535|        ohc|            four|        122|       2bbl|3.34|  3.46|              8.5|        88|    5000|      24|         30| 8921|\n",
            "|        3|              145|    dodge|      gas|     turbo|         two| hatchback|         fwd|          front|      95.9| 173.2| 66.3|  50.2|       2811|        ohc|            four|        156|        mfi| 3.6|   3.9|              7.0|       145|    5000|      19|         24|12964|\n",
            "|        2|              137|    honda|      gas|       std|         two| hatchback|         fwd|          front|      86.6| 144.6| 63.9|  50.8|       1713|        ohc|            four|         92|       1bbl|2.91|  3.41|              9.6|        58|    4800|      49|         54| 6479|\n",
            "+---------+-----------------+---------+---------+----------+------------+----------+------------+---------------+----------+------+-----+------+-----------+-----------+----------------+-----------+-----------+----+------+-----------------+----------+--------+--------+-----------+-----+\n",
            "only showing top 20 rows\n",
            "\n"
          ]
        }
      ]
    },
    {
      "cell_type": "code",
      "source": [
        "# Getting the cars with highway mpg more than 23\n",
        "Filtered_df= df.filter(df['highway-mpg'] > 23)\n",
        "#Display result\n",
        "Filtered_df.show()"
      ],
      "metadata": {
        "colab": {
          "base_uri": "https://localhost:8080/"
        },
        "id": "GZoEw5DVhOb2",
        "outputId": "49e1cd1c-ba1c-46ba-955b-e08d6c69a56a"
      },
      "execution_count": 7,
      "outputs": [
        {
          "output_type": "stream",
          "name": "stdout",
          "text": [
            "+---------+-----------------+---------+---------+----------+------------+----------+------------+---------------+----------+------+-----+------+-----------+-----------+----------------+-----------+-----------+----+------+-----------------+----------+--------+--------+-----------+-----+\n",
            "|symboling|normalized-losses|     make|fuel-type|aspiration|num-of-doors|body-style|drive-wheels|engine-location|wheel-base|length|width|height|curb-weight|engine-type|num-of-cylinders|engine-size|fuel-system|bore|stroke|compression-ratio|horsepower|peak-rpm|city-mpg|highway-mpg|price|\n",
            "+---------+-----------------+---------+---------+----------+------------+----------+------------+---------------+----------+------+-----+------+-----------+-----------+----------------+-----------+-----------+----+------+-----------------+----------+--------+--------+-----------+-----+\n",
            "|        2|              164|     audi|      gas|       std|        four|     sedan|         fwd|          front|      99.8| 176.6| 66.2|  54.3|       2337|        ohc|            four|        109|       mpfi|3.19|   3.4|             10.0|       102|    5500|      24|         30|13950|\n",
            "|        1|              158|     audi|      gas|       std|        four|     sedan|         fwd|          front|     105.8| 192.7| 71.4|  55.7|       2844|        ohc|            five|        136|       mpfi|3.19|   3.4|              8.5|       110|    5500|      19|         25|17710|\n",
            "|        2|              192|      bmw|      gas|       std|         two|     sedan|         rwd|          front|     101.2| 176.8| 64.8|  54.3|       2395|        ohc|            four|        108|       mpfi| 3.5|   2.8|              8.8|       101|    5800|      23|         29|16430|\n",
            "|        0|              192|      bmw|      gas|       std|        four|     sedan|         rwd|          front|     101.2| 176.8| 64.8|  54.3|       2395|        ohc|            four|        108|       mpfi| 3.5|   2.8|              8.8|       101|    5800|      23|         29|16925|\n",
            "|        0|              188|      bmw|      gas|       std|         two|     sedan|         rwd|          front|     101.2| 176.8| 64.8|  54.3|       2710|        ohc|             six|        164|       mpfi|3.31|  3.19|              9.0|       121|    4250|      21|         28|20970|\n",
            "|        0|              188|      bmw|      gas|       std|        four|     sedan|         rwd|          front|     101.2| 176.8| 64.8|  54.3|       2765|        ohc|             six|        164|       mpfi|3.31|  3.19|              9.0|       121|    4250|      21|         28|21105|\n",
            "|        2|              121|chevrolet|      gas|       std|         two| hatchback|         fwd|          front|      88.4| 141.1| 60.3|  53.2|       1488|          l|           three|         61|       2bbl|2.91|  3.03|              9.5|        48|    5100|      47|         53| 5151|\n",
            "|        1|               98|chevrolet|      gas|       std|         two| hatchback|         fwd|          front|      94.5| 155.9| 63.6|  52.0|       1874|        ohc|            four|         90|       2bbl|3.03|  3.11|              9.6|        70|    5400|      38|         43| 6295|\n",
            "|        0|               81|chevrolet|      gas|       std|        four|     sedan|         fwd|          front|      94.5| 158.8| 63.6|  52.0|       1909|        ohc|            four|         90|       2bbl|3.03|  3.11|              9.6|        70|    5400|      38|         43| 6575|\n",
            "|        1|              118|    dodge|      gas|       std|         two| hatchback|         fwd|          front|      93.7| 157.3| 63.8|  50.8|       1876|        ohc|            four|         90|       2bbl|2.97|  3.23|             9.41|        68|    5500|      37|         41| 5572|\n",
            "|        1|              118|    dodge|      gas|       std|         two| hatchback|         fwd|          front|      93.7| 157.3| 63.8|  50.8|       1876|        ohc|            four|         90|       2bbl|2.97|  3.23|              9.4|        68|    5500|      31|         38| 6377|\n",
            "|        1|              118|    dodge|      gas|     turbo|         two| hatchback|         fwd|          front|      93.7| 157.3| 63.8|  50.8|       2128|        ohc|            four|         98|       mpfi|3.03|  3.39|              7.6|       102|    5500|      24|         30| 7957|\n",
            "|        1|              148|    dodge|      gas|       std|        four| hatchback|         fwd|          front|      93.7| 157.3| 63.8|  50.6|       1967|        ohc|            four|         90|       2bbl|2.97|  3.23|              9.4|        68|    5500|      31|         38| 6229|\n",
            "|        1|              148|    dodge|      gas|       std|        four|     sedan|         fwd|          front|      93.7| 157.3| 63.8|  50.6|       1989|        ohc|            four|         90|       2bbl|2.97|  3.23|              9.4|        68|    5500|      31|         38| 6692|\n",
            "|        1|              148|    dodge|      gas|       std|        four|     sedan|         fwd|          front|      93.7| 157.3| 63.8|  50.6|       1989|        ohc|            four|         90|       2bbl|2.97|  3.23|              9.4|        68|    5500|      31|         38| 7609|\n",
            "|       -1|              110|    dodge|      gas|       std|        four|     wagon|         fwd|          front|     103.3| 174.6| 64.6|  59.8|       2535|        ohc|            four|        122|       2bbl|3.34|  3.46|              8.5|        88|    5000|      24|         30| 8921|\n",
            "|        3|              145|    dodge|      gas|     turbo|         two| hatchback|         fwd|          front|      95.9| 173.2| 66.3|  50.2|       2811|        ohc|            four|        156|        mfi| 3.6|   3.9|              7.0|       145|    5000|      19|         24|12964|\n",
            "|        2|              137|    honda|      gas|       std|         two| hatchback|         fwd|          front|      86.6| 144.6| 63.9|  50.8|       1713|        ohc|            four|         92|       1bbl|2.91|  3.41|              9.6|        58|    4800|      49|         54| 6479|\n",
            "|        2|              137|    honda|      gas|       std|         two| hatchback|         fwd|          front|      86.6| 144.6| 63.9|  50.8|       1819|        ohc|            four|         92|       1bbl|2.91|  3.41|              9.2|        76|    6000|      31|         38| 6855|\n",
            "|        1|              101|    honda|      gas|       std|         two| hatchback|         fwd|          front|      93.7| 150.0| 64.0|  52.6|       1837|        ohc|            four|         79|       1bbl|2.91|  3.07|             10.1|        60|    5500|      38|         42| 5399|\n",
            "+---------+-----------------+---------+---------+----------+------------+----------+------------+---------------+----------+------+-----+------+-----------+-----------+----------------+-----------+-----------+----+------+-----------------+----------+--------+--------+-----------+-----+\n",
            "only showing top 20 rows\n",
            "\n"
          ]
        }
      ]
    },
    {
      "cell_type": "code",
      "source": [
        "\n",
        "# Filter the DataFrame based on the given conditions\n",
        "cars_filtered = df.filter((df.horsepower > 80) & (df['curb-weight'] > 2000))\n",
        "# Display filtering result\n",
        "cars_filtered.show()"
      ],
      "metadata": {
        "colab": {
          "base_uri": "https://localhost:8080/"
        },
        "id": "tDEj7ObChOj_",
        "outputId": "b8c62a4b-7e01-422b-d34d-bb37fd174e02"
      },
      "execution_count": 8,
      "outputs": [
        {
          "output_type": "stream",
          "name": "stdout",
          "text": [
            "+---------+-----------------+------+---------+----------+------------+----------+------------+---------------+----------+------+-----+------+-----------+-----------+----------------+-----------+-----------+----+------+-----------------+----------+--------+--------+-----------+-----+\n",
            "|symboling|normalized-losses|  make|fuel-type|aspiration|num-of-doors|body-style|drive-wheels|engine-location|wheel-base|length|width|height|curb-weight|engine-type|num-of-cylinders|engine-size|fuel-system|bore|stroke|compression-ratio|horsepower|peak-rpm|city-mpg|highway-mpg|price|\n",
            "+---------+-----------------+------+---------+----------+------------+----------+------------+---------------+----------+------+-----+------+-----------+-----------+----------------+-----------+-----------+----+------+-----------------+----------+--------+--------+-----------+-----+\n",
            "|        2|              164|  audi|      gas|       std|        four|     sedan|         fwd|          front|      99.8| 176.6| 66.2|  54.3|       2337|        ohc|            four|        109|       mpfi|3.19|   3.4|             10.0|       102|    5500|      24|         30|13950|\n",
            "|        2|              164|  audi|      gas|       std|        four|     sedan|         4wd|          front|      99.4| 176.6| 66.4|  54.3|       2824|        ohc|            five|        136|       mpfi|3.19|   3.4|              8.0|       115|    5500|      18|         22|17450|\n",
            "|        1|              158|  audi|      gas|       std|        four|     sedan|         fwd|          front|     105.8| 192.7| 71.4|  55.7|       2844|        ohc|            five|        136|       mpfi|3.19|   3.4|              8.5|       110|    5500|      19|         25|17710|\n",
            "|        1|              158|  audi|      gas|     turbo|        four|     sedan|         fwd|          front|     105.8| 192.7| 71.4|  55.9|       3086|        ohc|            five|        131|       mpfi|3.13|   3.4|              8.3|       140|    5500|      17|         20|23875|\n",
            "|        2|              192|   bmw|      gas|       std|         two|     sedan|         rwd|          front|     101.2| 176.8| 64.8|  54.3|       2395|        ohc|            four|        108|       mpfi| 3.5|   2.8|              8.8|       101|    5800|      23|         29|16430|\n",
            "|        0|              192|   bmw|      gas|       std|        four|     sedan|         rwd|          front|     101.2| 176.8| 64.8|  54.3|       2395|        ohc|            four|        108|       mpfi| 3.5|   2.8|              8.8|       101|    5800|      23|         29|16925|\n",
            "|        0|              188|   bmw|      gas|       std|         two|     sedan|         rwd|          front|     101.2| 176.8| 64.8|  54.3|       2710|        ohc|             six|        164|       mpfi|3.31|  3.19|              9.0|       121|    4250|      21|         28|20970|\n",
            "|        0|              188|   bmw|      gas|       std|        four|     sedan|         rwd|          front|     101.2| 176.8| 64.8|  54.3|       2765|        ohc|             six|        164|       mpfi|3.31|  3.19|              9.0|       121|    4250|      21|         28|21105|\n",
            "|        1|              118| dodge|      gas|     turbo|         two| hatchback|         fwd|          front|      93.7| 157.3| 63.8|  50.8|       2128|        ohc|            four|         98|       mpfi|3.03|  3.39|              7.6|       102|    5500|      24|         30| 7957|\n",
            "|       -1|              110| dodge|      gas|       std|        four|     wagon|         fwd|          front|     103.3| 174.6| 64.6|  59.8|       2535|        ohc|            four|        122|       2bbl|3.34|  3.46|              8.5|        88|    5000|      24|         30| 8921|\n",
            "|        3|              145| dodge|      gas|     turbo|         two| hatchback|         fwd|          front|      95.9| 173.2| 66.3|  50.2|       2811|        ohc|            four|        156|        mfi| 3.6|   3.9|              7.0|       145|    5000|      19|         24|12964|\n",
            "|        0|              106| honda|      gas|       std|         two| hatchback|         fwd|          front|      96.5| 167.5| 65.2|  53.3|       2236|        ohc|            four|        110|       1bbl|3.15|  3.58|              9.0|        86|    5800|      27|         33| 7895|\n",
            "|        0|              106| honda|      gas|       std|         two| hatchback|         fwd|          front|      96.5| 167.5| 65.2|  53.3|       2289|        ohc|            four|        110|       1bbl|3.15|  3.58|              9.0|        86|    5800|      27|         33| 9095|\n",
            "|        0|               85| honda|      gas|       std|        four|     sedan|         fwd|          front|      96.5| 175.4| 65.2|  54.1|       2304|        ohc|            four|        110|       1bbl|3.15|  3.58|              9.0|        86|    5800|      27|         33| 8845|\n",
            "|        0|               85| honda|      gas|       std|        four|     sedan|         fwd|          front|      96.5| 175.4| 62.5|  54.1|       2372|        ohc|            four|        110|       1bbl|3.15|  3.58|              9.0|        86|    5800|      27|         33|10295|\n",
            "|        0|               85| honda|      gas|       std|        four|     sedan|         fwd|          front|      96.5| 175.4| 65.2|  54.1|       2465|        ohc|            four|        110|       mpfi|3.15|  3.58|              9.0|       101|    5800|      24|         28|12945|\n",
            "|        1|              107| honda|      gas|       std|         two|     sedan|         fwd|          front|      96.5| 169.1| 66.0|  51.0|       2293|        ohc|            four|        110|       2bbl|3.15|  3.58|              9.1|       100|    5500|      25|         31|10345|\n",
            "|        0|              145|jaguar|      gas|       std|        four|     sedan|         rwd|          front|     113.0| 199.6| 69.6|  52.8|       4066|       dohc|             six|        258|       mpfi|3.63|  4.17|              8.1|       176|    4750|      15|         19|32250|\n",
            "|        1|              129| mazda|      gas|       std|         two| hatchback|         fwd|          front|      98.8| 177.8| 66.5|  53.7|       2385|        ohc|            four|        122|       2bbl|3.39|  3.39|              8.6|        84|    4800|      26|         32| 8845|\n",
            "|        0|              115| mazda|      gas|       std|        four|     sedan|         fwd|          front|      98.8| 177.8| 66.5|  55.5|       2410|        ohc|            four|        122|       2bbl|3.39|  3.39|              8.6|        84|    4800|      26|         32| 8495|\n",
            "+---------+-----------------+------+---------+----------+------------+----------+------------+---------------+----------+------+-----+------+-----------+-----------+----------------+-----------+-----------+----+------+-----------------+----------+--------+--------+-----------+-----+\n",
            "only showing top 20 rows\n",
            "\n"
          ]
        }
      ]
    },
    {
      "cell_type": "code",
      "source": [],
      "metadata": {
        "id": "7DM8oDnmv-sK"
      },
      "execution_count": null,
      "outputs": []
    },
    {
      "cell_type": "code",
      "source": [],
      "metadata": {
        "id": "4aXl9SZdv-34"
      },
      "execution_count": null,
      "outputs": []
    },
    {
      "cell_type": "code",
      "source": [],
      "metadata": {
        "id": "9TXm_JhXv_8k"
      },
      "execution_count": null,
      "outputs": []
    },
    {
      "cell_type": "markdown",
      "source": [],
      "metadata": {
        "id": "RtxjyWR_wD5i"
      }
    },
    {
      "cell_type": "code",
      "source": [
        " # Filter the DataFrame to select only Audi cars\n",
        "Audi_cars = df.filter(df.make == \"audi\")\n",
        "\n",
        "# Display result after filtering\n",
        "Audi_cars.show()"
      ],
      "metadata": {
        "colab": {
          "base_uri": "https://localhost:8080/"
        },
        "id": "Nm9xJWKmhOoI",
        "outputId": "66c53a9f-c1b5-41dd-c194-6d375f45bec2"
      },
      "execution_count": 13,
      "outputs": [
        {
          "output_type": "stream",
          "name": "stdout",
          "text": [
            "+---------+-----------------+----+---------+----------+------------+----------+------------+---------------+----------+------+-----+------+-----------+-----------+----------------+-----------+-----------+----+------+-----------------+----------+--------+--------+-----------+-----+\n",
            "|symboling|normalized-losses|make|fuel-type|aspiration|num-of-doors|body-style|drive-wheels|engine-location|wheel-base|length|width|height|curb-weight|engine-type|num-of-cylinders|engine-size|fuel-system|bore|stroke|compression-ratio|horsepower|peak-rpm|city-mpg|highway-mpg|price|\n",
            "+---------+-----------------+----+---------+----------+------------+----------+------------+---------------+----------+------+-----+------+-----------+-----------+----------------+-----------+-----------+----+------+-----------------+----------+--------+--------+-----------+-----+\n",
            "|        2|              164|audi|      gas|       std|        four|     sedan|         fwd|          front|      99.8| 176.6| 66.2|  54.3|       2337|        ohc|            four|        109|       mpfi|3.19|   3.4|             10.0|       102|    5500|      24|         30|13950|\n",
            "|        2|              164|audi|      gas|       std|        four|     sedan|         4wd|          front|      99.4| 176.6| 66.4|  54.3|       2824|        ohc|            five|        136|       mpfi|3.19|   3.4|              8.0|       115|    5500|      18|         22|17450|\n",
            "|        1|              158|audi|      gas|       std|        four|     sedan|         fwd|          front|     105.8| 192.7| 71.4|  55.7|       2844|        ohc|            five|        136|       mpfi|3.19|   3.4|              8.5|       110|    5500|      19|         25|17710|\n",
            "|        1|              158|audi|      gas|     turbo|        four|     sedan|         fwd|          front|     105.8| 192.7| 71.4|  55.9|       3086|        ohc|            five|        131|       mpfi|3.13|   3.4|              8.3|       140|    5500|      17|         20|23875|\n",
            "+---------+-----------------+----+---------+----------+------------+----------+------------+---------------+----------+------+-----+------+-----------+-----------+----------------+-----------+-----------+----+------+-----------------+----------+--------+--------+-----------+-----+\n",
            "\n"
          ]
        }
      ]
    },
    {
      "cell_type": "markdown",
      "source": [],
      "metadata": {
        "id": "0nghSi3vwF43"
      }
    },
    {
      "cell_type": "code",
      "source": [
        "# Group by 'make' and 'drive-wheels' and count the number of cars in each group\n",
        "grouped_df = df.groupBy(\"make\", \"drive-wheels\").count()\n",
        "\n",
        "# Display grouped DataFrame\n",
        "grouped_df.show()"
      ],
      "metadata": {
        "colab": {
          "base_uri": "https://localhost:8080/"
        },
        "id": "z2_MUlESotnW",
        "outputId": "e18c18e3-3caf-410c-af93-8288dbe605b8"
      },
      "execution_count": 10,
      "outputs": [
        {
          "output_type": "stream",
          "name": "stdout",
          "text": [
            "+-------------+------------+-----+\n",
            "|         make|drive-wheels|count|\n",
            "+-------------+------------+-----+\n",
            "|         saab|         fwd|    6|\n",
            "|       nissan|         fwd|   15|\n",
            "|        mazda|         rwd|    1|\n",
            "|        mazda|         fwd|   10|\n",
            "|   mitsubishi|         fwd|   10|\n",
            "|    chevrolet|         fwd|    3|\n",
            "|         audi|         4wd|    1|\n",
            "|      porsche|         rwd|    1|\n",
            "|       toyota|         4wd|    2|\n",
            "|   volkswagen|         fwd|    8|\n",
            "|       jaguar|         rwd|    1|\n",
            "|          bmw|         rwd|    4|\n",
            "|       nissan|         rwd|    3|\n",
            "|       peugot|         rwd|    7|\n",
            "|        volvo|         rwd|   11|\n",
            "|     plymouth|         fwd|    6|\n",
            "|       subaru|         fwd|    7|\n",
            "|       toyota|         fwd|   16|\n",
            "|        honda|         fwd|   13|\n",
            "|mercedes-benz|         rwd|    5|\n",
            "+-------------+------------+-----+\n",
            "only showing top 20 rows\n",
            "\n"
          ]
        }
      ]
    },
    {
      "cell_type": "code",
      "source": [
        "from pyspark.sql.functions import col, count, round\n",
        "# Add a new column for weight in pounds (assuming 'curb-weight' is in kilograms) and rounding to 2 decimal points\n",
        "# 1 kilogram = 2.20462 pounds\n",
        "df_with_weight_lbs = df.withColumn(\"weight_lbs\", round(col(\"curb-weight\") * 2.20462, 2))\n",
        "\n",
        "# Display DataFrame with the new column\n",
        "df_with_weight_lbs.show()"
      ],
      "metadata": {
        "colab": {
          "base_uri": "https://localhost:8080/"
        },
        "id": "NqYWgQhyotwy",
        "outputId": "fda226aa-8b2a-4346-c792-ebf5c4dfc2f6"
      },
      "execution_count": 11,
      "outputs": [
        {
          "output_type": "stream",
          "name": "stdout",
          "text": [
            "+---------+-----------------+---------+---------+----------+------------+----------+------------+---------------+----------+------+-----+------+-----------+-----------+----------------+-----------+-----------+----+------+-----------------+----------+--------+--------+-----------+-----+----------+\n",
            "|symboling|normalized-losses|     make|fuel-type|aspiration|num-of-doors|body-style|drive-wheels|engine-location|wheel-base|length|width|height|curb-weight|engine-type|num-of-cylinders|engine-size|fuel-system|bore|stroke|compression-ratio|horsepower|peak-rpm|city-mpg|highway-mpg|price|weight_lbs|\n",
            "+---------+-----------------+---------+---------+----------+------------+----------+------------+---------------+----------+------+-----+------+-----------+-----------+----------------+-----------+-----------+----+------+-----------------+----------+--------+--------+-----------+-----+----------+\n",
            "|        2|              164|     audi|      gas|       std|        four|     sedan|         fwd|          front|      99.8| 176.6| 66.2|  54.3|       2337|        ohc|            four|        109|       mpfi|3.19|   3.4|             10.0|       102|    5500|      24|         30|13950|    5152.2|\n",
            "|        2|              164|     audi|      gas|       std|        four|     sedan|         4wd|          front|      99.4| 176.6| 66.4|  54.3|       2824|        ohc|            five|        136|       mpfi|3.19|   3.4|              8.0|       115|    5500|      18|         22|17450|   6225.85|\n",
            "|        1|              158|     audi|      gas|       std|        four|     sedan|         fwd|          front|     105.8| 192.7| 71.4|  55.7|       2844|        ohc|            five|        136|       mpfi|3.19|   3.4|              8.5|       110|    5500|      19|         25|17710|   6269.94|\n",
            "|        1|              158|     audi|      gas|     turbo|        four|     sedan|         fwd|          front|     105.8| 192.7| 71.4|  55.9|       3086|        ohc|            five|        131|       mpfi|3.13|   3.4|              8.3|       140|    5500|      17|         20|23875|   6803.46|\n",
            "|        2|              192|      bmw|      gas|       std|         two|     sedan|         rwd|          front|     101.2| 176.8| 64.8|  54.3|       2395|        ohc|            four|        108|       mpfi| 3.5|   2.8|              8.8|       101|    5800|      23|         29|16430|   5280.06|\n",
            "|        0|              192|      bmw|      gas|       std|        four|     sedan|         rwd|          front|     101.2| 176.8| 64.8|  54.3|       2395|        ohc|            four|        108|       mpfi| 3.5|   2.8|              8.8|       101|    5800|      23|         29|16925|   5280.06|\n",
            "|        0|              188|      bmw|      gas|       std|         two|     sedan|         rwd|          front|     101.2| 176.8| 64.8|  54.3|       2710|        ohc|             six|        164|       mpfi|3.31|  3.19|              9.0|       121|    4250|      21|         28|20970|   5974.52|\n",
            "|        0|              188|      bmw|      gas|       std|        four|     sedan|         rwd|          front|     101.2| 176.8| 64.8|  54.3|       2765|        ohc|             six|        164|       mpfi|3.31|  3.19|              9.0|       121|    4250|      21|         28|21105|   6095.77|\n",
            "|        2|              121|chevrolet|      gas|       std|         two| hatchback|         fwd|          front|      88.4| 141.1| 60.3|  53.2|       1488|          l|           three|         61|       2bbl|2.91|  3.03|              9.5|        48|    5100|      47|         53| 5151|   3280.47|\n",
            "|        1|               98|chevrolet|      gas|       std|         two| hatchback|         fwd|          front|      94.5| 155.9| 63.6|  52.0|       1874|        ohc|            four|         90|       2bbl|3.03|  3.11|              9.6|        70|    5400|      38|         43| 6295|   4131.46|\n",
            "|        0|               81|chevrolet|      gas|       std|        four|     sedan|         fwd|          front|      94.5| 158.8| 63.6|  52.0|       1909|        ohc|            four|         90|       2bbl|3.03|  3.11|              9.6|        70|    5400|      38|         43| 6575|   4208.62|\n",
            "|        1|              118|    dodge|      gas|       std|         two| hatchback|         fwd|          front|      93.7| 157.3| 63.8|  50.8|       1876|        ohc|            four|         90|       2bbl|2.97|  3.23|             9.41|        68|    5500|      37|         41| 5572|   4135.87|\n",
            "|        1|              118|    dodge|      gas|       std|         two| hatchback|         fwd|          front|      93.7| 157.3| 63.8|  50.8|       1876|        ohc|            four|         90|       2bbl|2.97|  3.23|              9.4|        68|    5500|      31|         38| 6377|   4135.87|\n",
            "|        1|              118|    dodge|      gas|     turbo|         two| hatchback|         fwd|          front|      93.7| 157.3| 63.8|  50.8|       2128|        ohc|            four|         98|       mpfi|3.03|  3.39|              7.6|       102|    5500|      24|         30| 7957|   4691.43|\n",
            "|        1|              148|    dodge|      gas|       std|        four| hatchback|         fwd|          front|      93.7| 157.3| 63.8|  50.6|       1967|        ohc|            four|         90|       2bbl|2.97|  3.23|              9.4|        68|    5500|      31|         38| 6229|   4336.49|\n",
            "|        1|              148|    dodge|      gas|       std|        four|     sedan|         fwd|          front|      93.7| 157.3| 63.8|  50.6|       1989|        ohc|            four|         90|       2bbl|2.97|  3.23|              9.4|        68|    5500|      31|         38| 6692|   4384.99|\n",
            "|        1|              148|    dodge|      gas|       std|        four|     sedan|         fwd|          front|      93.7| 157.3| 63.8|  50.6|       1989|        ohc|            four|         90|       2bbl|2.97|  3.23|              9.4|        68|    5500|      31|         38| 7609|   4384.99|\n",
            "|       -1|              110|    dodge|      gas|       std|        four|     wagon|         fwd|          front|     103.3| 174.6| 64.6|  59.8|       2535|        ohc|            four|        122|       2bbl|3.34|  3.46|              8.5|        88|    5000|      24|         30| 8921|   5588.71|\n",
            "|        3|              145|    dodge|      gas|     turbo|         two| hatchback|         fwd|          front|      95.9| 173.2| 66.3|  50.2|       2811|        ohc|            four|        156|        mfi| 3.6|   3.9|              7.0|       145|    5000|      19|         24|12964|   6197.19|\n",
            "|        2|              137|    honda|      gas|       std|         two| hatchback|         fwd|          front|      86.6| 144.6| 63.9|  50.8|       1713|        ohc|            four|         92|       1bbl|2.91|  3.41|              9.6|        58|    4800|      49|         54| 6479|   3776.51|\n",
            "+---------+-----------------+---------+---------+----------+------------+----------+------------+---------------+----------+------+-----+------+-----------+-----------+----------------+-----------+-----------+----+------+-----------------+----------+--------+--------+-----------+-----+----------+\n",
            "only showing top 20 rows\n",
            "\n"
          ]
        }
      ]
    },
    {
      "cell_type": "code",
      "source": [
        "from pyspark.sql.functions import col, count, round\n",
        "\n",
        "# Convert MPG to Km/L and add as a new column\n",
        "df_with_km_perliter = df.withColumn(\"km_perliter\", round(col(\"city-mpg\") * 0.425144, 2))\n",
        "\n",
        "# Show the DataFrame with the new Km/L column\n",
        "df_with_km_perliter.show()"
      ],
      "metadata": {
        "colab": {
          "base_uri": "https://localhost:8080/"
        },
        "id": "Nr7Yk6orqiGr",
        "outputId": "29d622ee-8fba-4b69-d026-a4473e269c62"
      },
      "execution_count": 12,
      "outputs": [
        {
          "output_type": "stream",
          "name": "stdout",
          "text": [
            "+---------+-----------------+---------+---------+----------+------------+----------+------------+---------------+----------+------+-----+------+-----------+-----------+----------------+-----------+-----------+----+------+-----------------+----------+--------+--------+-----------+-----+-----------+\n",
            "|symboling|normalized-losses|     make|fuel-type|aspiration|num-of-doors|body-style|drive-wheels|engine-location|wheel-base|length|width|height|curb-weight|engine-type|num-of-cylinders|engine-size|fuel-system|bore|stroke|compression-ratio|horsepower|peak-rpm|city-mpg|highway-mpg|price|km_perliter|\n",
            "+---------+-----------------+---------+---------+----------+------------+----------+------------+---------------+----------+------+-----+------+-----------+-----------+----------------+-----------+-----------+----+------+-----------------+----------+--------+--------+-----------+-----+-----------+\n",
            "|        2|              164|     audi|      gas|       std|        four|     sedan|         fwd|          front|      99.8| 176.6| 66.2|  54.3|       2337|        ohc|            four|        109|       mpfi|3.19|   3.4|             10.0|       102|    5500|      24|         30|13950|       10.2|\n",
            "|        2|              164|     audi|      gas|       std|        four|     sedan|         4wd|          front|      99.4| 176.6| 66.4|  54.3|       2824|        ohc|            five|        136|       mpfi|3.19|   3.4|              8.0|       115|    5500|      18|         22|17450|       7.65|\n",
            "|        1|              158|     audi|      gas|       std|        four|     sedan|         fwd|          front|     105.8| 192.7| 71.4|  55.7|       2844|        ohc|            five|        136|       mpfi|3.19|   3.4|              8.5|       110|    5500|      19|         25|17710|       8.08|\n",
            "|        1|              158|     audi|      gas|     turbo|        four|     sedan|         fwd|          front|     105.8| 192.7| 71.4|  55.9|       3086|        ohc|            five|        131|       mpfi|3.13|   3.4|              8.3|       140|    5500|      17|         20|23875|       7.23|\n",
            "|        2|              192|      bmw|      gas|       std|         two|     sedan|         rwd|          front|     101.2| 176.8| 64.8|  54.3|       2395|        ohc|            four|        108|       mpfi| 3.5|   2.8|              8.8|       101|    5800|      23|         29|16430|       9.78|\n",
            "|        0|              192|      bmw|      gas|       std|        four|     sedan|         rwd|          front|     101.2| 176.8| 64.8|  54.3|       2395|        ohc|            four|        108|       mpfi| 3.5|   2.8|              8.8|       101|    5800|      23|         29|16925|       9.78|\n",
            "|        0|              188|      bmw|      gas|       std|         two|     sedan|         rwd|          front|     101.2| 176.8| 64.8|  54.3|       2710|        ohc|             six|        164|       mpfi|3.31|  3.19|              9.0|       121|    4250|      21|         28|20970|       8.93|\n",
            "|        0|              188|      bmw|      gas|       std|        four|     sedan|         rwd|          front|     101.2| 176.8| 64.8|  54.3|       2765|        ohc|             six|        164|       mpfi|3.31|  3.19|              9.0|       121|    4250|      21|         28|21105|       8.93|\n",
            "|        2|              121|chevrolet|      gas|       std|         two| hatchback|         fwd|          front|      88.4| 141.1| 60.3|  53.2|       1488|          l|           three|         61|       2bbl|2.91|  3.03|              9.5|        48|    5100|      47|         53| 5151|      19.98|\n",
            "|        1|               98|chevrolet|      gas|       std|         two| hatchback|         fwd|          front|      94.5| 155.9| 63.6|  52.0|       1874|        ohc|            four|         90|       2bbl|3.03|  3.11|              9.6|        70|    5400|      38|         43| 6295|      16.16|\n",
            "|        0|               81|chevrolet|      gas|       std|        four|     sedan|         fwd|          front|      94.5| 158.8| 63.6|  52.0|       1909|        ohc|            four|         90|       2bbl|3.03|  3.11|              9.6|        70|    5400|      38|         43| 6575|      16.16|\n",
            "|        1|              118|    dodge|      gas|       std|         two| hatchback|         fwd|          front|      93.7| 157.3| 63.8|  50.8|       1876|        ohc|            four|         90|       2bbl|2.97|  3.23|             9.41|        68|    5500|      37|         41| 5572|      15.73|\n",
            "|        1|              118|    dodge|      gas|       std|         two| hatchback|         fwd|          front|      93.7| 157.3| 63.8|  50.8|       1876|        ohc|            four|         90|       2bbl|2.97|  3.23|              9.4|        68|    5500|      31|         38| 6377|      13.18|\n",
            "|        1|              118|    dodge|      gas|     turbo|         two| hatchback|         fwd|          front|      93.7| 157.3| 63.8|  50.8|       2128|        ohc|            four|         98|       mpfi|3.03|  3.39|              7.6|       102|    5500|      24|         30| 7957|       10.2|\n",
            "|        1|              148|    dodge|      gas|       std|        four| hatchback|         fwd|          front|      93.7| 157.3| 63.8|  50.6|       1967|        ohc|            four|         90|       2bbl|2.97|  3.23|              9.4|        68|    5500|      31|         38| 6229|      13.18|\n",
            "|        1|              148|    dodge|      gas|       std|        four|     sedan|         fwd|          front|      93.7| 157.3| 63.8|  50.6|       1989|        ohc|            four|         90|       2bbl|2.97|  3.23|              9.4|        68|    5500|      31|         38| 6692|      13.18|\n",
            "|        1|              148|    dodge|      gas|       std|        four|     sedan|         fwd|          front|      93.7| 157.3| 63.8|  50.6|       1989|        ohc|            four|         90|       2bbl|2.97|  3.23|              9.4|        68|    5500|      31|         38| 7609|      13.18|\n",
            "|       -1|              110|    dodge|      gas|       std|        four|     wagon|         fwd|          front|     103.3| 174.6| 64.6|  59.8|       2535|        ohc|            four|        122|       2bbl|3.34|  3.46|              8.5|        88|    5000|      24|         30| 8921|       10.2|\n",
            "|        3|              145|    dodge|      gas|     turbo|         two| hatchback|         fwd|          front|      95.9| 173.2| 66.3|  50.2|       2811|        ohc|            four|        156|        mfi| 3.6|   3.9|              7.0|       145|    5000|      19|         24|12964|       8.08|\n",
            "|        2|              137|    honda|      gas|       std|         two| hatchback|         fwd|          front|      86.6| 144.6| 63.9|  50.8|       1713|        ohc|            four|         92|       1bbl|2.91|  3.41|              9.6|        58|    4800|      49|         54| 6479|      20.83|\n",
            "+---------+-----------------+---------+---------+----------+------------+----------+------------+---------------+----------+------+-----+------+-----------+-----------+----------------+-----------+-----------+----+------+-----------------+----------+--------+--------+-----------+-----+-----------+\n",
            "only showing top 20 rows\n",
            "\n"
          ]
        }
      ]
    }
  ]
}